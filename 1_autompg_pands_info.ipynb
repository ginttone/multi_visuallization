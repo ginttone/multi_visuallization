{
  "nbformat": 4,
  "nbformat_minor": 0,
  "metadata": {
    "colab": {
      "name": "Untitled0.ipynb",
      "provenance": [],
      "authorship_tag": "ABX9TyMUlzCQ7MJPJN4XPkZFHP0f",
      "include_colab_link": true
    },
    "kernelspec": {
      "name": "python3",
      "display_name": "Python 3"
    },
    "language_info": {
      "name": "python"
    }
  },
  "cells": [
    {
      "cell_type": "markdown",
      "metadata": {
        "id": "view-in-github",
        "colab_type": "text"
      },
      "source": [
        "<a href=\"https://colab.research.google.com/github/ginttone/test_visuallization/blob/master/1_autompg_pands_info.ipynb\" target=\"_parent\"><img src=\"https://colab.research.google.com/assets/colab-badge.svg\" alt=\"Open In Colab\"/></a>"
      ]
    },
    {
      "cell_type": "markdown",
      "metadata": {
        "id": "8pWfzTFyQQnp"
      },
      "source": [
        "정보(데이터)단계\n"
      ]
    },
    {
      "cell_type": "code",
      "metadata": {
        "id": "9FrYULO-PBw2"
      },
      "source": [
        "import pandas as pd"
      ],
      "execution_count": 1,
      "outputs": []
    },
    {
      "cell_type": "code",
      "metadata": {
        "colab": {
          "base_uri": "https://localhost:8080/"
        },
        "id": "deC-NpK9Ql5D",
        "outputId": "3f1f2aac-f232-45ec-87b7-dc9611e67ab2"
      },
      "source": [
        "!pwd #현재 어느 디랙토리에 있니?"
      ],
      "execution_count": 3,
      "outputs": [
        {
          "output_type": "stream",
          "text": [
            "/content\n"
          ],
          "name": "stdout"
        }
      ]
    },
    {
      "cell_type": "code",
      "metadata": {
        "colab": {
          "base_uri": "https://localhost:8080/"
        },
        "id": "jmpg5AyWRvcd",
        "outputId": "52efb96d-6b28-4e62-b92f-4acccae71c85"
      },
      "source": [
        "!ls -l ./auto-mpg.csv #자세히보는 -l 현재 있느냐 ./ "
      ],
      "execution_count": 5,
      "outputs": [
        {
          "output_type": "stream",
          "text": [
            "-rw-r--r-- 1 root root 21913 Jul  5 01:19 ./auto-mpg.csv\n"
          ],
          "name": "stdout"
        }
      ]
    },
    {
      "cell_type": "code",
      "metadata": {
        "id": "0-Khd8EFQltI"
      },
      "source": [
        "df=pd.read_csv('./auto-mpg.csv', header=None)"
      ],
      "execution_count": 7,
      "outputs": []
    },
    {
      "cell_type": "markdown",
      "metadata": {
        "id": "lXj0uYcpT3Bp"
      },
      "source": [
        "* ------------info구성\n",
        "* Range index : 행의 사이즈 \n",
        "* column : 각각의 구성\n",
        " * null의 count: non-null은 널이없다 표현\n",
        "* dataset"
      ]
    },
    {
      "cell_type": "code",
      "metadata": {
        "colab": {
          "base_uri": "https://localhost:8080/"
        },
        "id": "k94yMEWBQmRD",
        "outputId": "bd7be7e0-3043-48dc-a8f8-287f6dd6bb2d"
      },
      "source": [
        "\n",
        "df.info() #df의 모든것 보기"
      ],
      "execution_count": 11,
      "outputs": [
        {
          "output_type": "stream",
          "text": [
            "<class 'pandas.core.frame.DataFrame'>\n",
            "RangeIndex: 398 entries, 0 to 397\n",
            "Data columns (total 9 columns):\n",
            " #   Column  Non-Null Count  Dtype  \n",
            "---  ------  --------------  -----  \n",
            " 0   0       398 non-null    float64\n",
            " 1   1       398 non-null    int64  \n",
            " 2   2       398 non-null    float64\n",
            " 3   3       398 non-null    object \n",
            " 4   4       398 non-null    float64\n",
            " 5   5       398 non-null    float64\n",
            " 6   6       398 non-null    int64  \n",
            " 7   7       398 non-null    int64  \n",
            " 8   8       398 non-null    object \n",
            "dtypes: float64(4), int64(3), object(2)\n",
            "memory usage: 28.1+ KB\n"
          ],
          "name": "stdout"
        }
      ]
    },
    {
      "cell_type": "code",
      "metadata": {
        "colab": {
          "base_uri": "https://localhost:8080/",
          "height": 315
        },
        "id": "NCSyhb1GRuqm",
        "outputId": "4790a9ee-4662-420f-cf98-51d06d4ff6b0"
      },
      "source": [
        "df.describe()"
      ],
      "execution_count": 10,
      "outputs": [
        {
          "output_type": "execute_result",
          "data": {
            "text/html": [
              "<div>\n",
              "<style scoped>\n",
              "    .dataframe tbody tr th:only-of-type {\n",
              "        vertical-align: middle;\n",
              "    }\n",
              "\n",
              "    .dataframe tbody tr th {\n",
              "        vertical-align: top;\n",
              "    }\n",
              "\n",
              "    .dataframe thead th {\n",
              "        text-align: right;\n",
              "    }\n",
              "</style>\n",
              "<table border=\"1\" class=\"dataframe\">\n",
              "  <thead>\n",
              "    <tr style=\"text-align: right;\">\n",
              "      <th></th>\n",
              "      <th>0</th>\n",
              "      <th>1</th>\n",
              "      <th>2</th>\n",
              "      <th>4</th>\n",
              "      <th>5</th>\n",
              "      <th>6</th>\n",
              "      <th>7</th>\n",
              "    </tr>\n",
              "  </thead>\n",
              "  <tbody>\n",
              "    <tr>\n",
              "      <th>count</th>\n",
              "      <td>398.000000</td>\n",
              "      <td>398.000000</td>\n",
              "      <td>398.000000</td>\n",
              "      <td>398.000000</td>\n",
              "      <td>398.000000</td>\n",
              "      <td>398.000000</td>\n",
              "      <td>398.000000</td>\n",
              "    </tr>\n",
              "    <tr>\n",
              "      <th>mean</th>\n",
              "      <td>23.514573</td>\n",
              "      <td>5.454774</td>\n",
              "      <td>193.425879</td>\n",
              "      <td>2970.424623</td>\n",
              "      <td>15.568090</td>\n",
              "      <td>76.010050</td>\n",
              "      <td>1.572864</td>\n",
              "    </tr>\n",
              "    <tr>\n",
              "      <th>std</th>\n",
              "      <td>7.815984</td>\n",
              "      <td>1.701004</td>\n",
              "      <td>104.269838</td>\n",
              "      <td>846.841774</td>\n",
              "      <td>2.757689</td>\n",
              "      <td>3.697627</td>\n",
              "      <td>0.802055</td>\n",
              "    </tr>\n",
              "    <tr>\n",
              "      <th>min</th>\n",
              "      <td>9.000000</td>\n",
              "      <td>3.000000</td>\n",
              "      <td>68.000000</td>\n",
              "      <td>1613.000000</td>\n",
              "      <td>8.000000</td>\n",
              "      <td>70.000000</td>\n",
              "      <td>1.000000</td>\n",
              "    </tr>\n",
              "    <tr>\n",
              "      <th>25%</th>\n",
              "      <td>17.500000</td>\n",
              "      <td>4.000000</td>\n",
              "      <td>104.250000</td>\n",
              "      <td>2223.750000</td>\n",
              "      <td>13.825000</td>\n",
              "      <td>73.000000</td>\n",
              "      <td>1.000000</td>\n",
              "    </tr>\n",
              "    <tr>\n",
              "      <th>50%</th>\n",
              "      <td>23.000000</td>\n",
              "      <td>4.000000</td>\n",
              "      <td>148.500000</td>\n",
              "      <td>2803.500000</td>\n",
              "      <td>15.500000</td>\n",
              "      <td>76.000000</td>\n",
              "      <td>1.000000</td>\n",
              "    </tr>\n",
              "    <tr>\n",
              "      <th>75%</th>\n",
              "      <td>29.000000</td>\n",
              "      <td>8.000000</td>\n",
              "      <td>262.000000</td>\n",
              "      <td>3608.000000</td>\n",
              "      <td>17.175000</td>\n",
              "      <td>79.000000</td>\n",
              "      <td>2.000000</td>\n",
              "    </tr>\n",
              "    <tr>\n",
              "      <th>max</th>\n",
              "      <td>46.600000</td>\n",
              "      <td>8.000000</td>\n",
              "      <td>455.000000</td>\n",
              "      <td>5140.000000</td>\n",
              "      <td>24.800000</td>\n",
              "      <td>82.000000</td>\n",
              "      <td>3.000000</td>\n",
              "    </tr>\n",
              "  </tbody>\n",
              "</table>\n",
              "</div>"
            ],
            "text/plain": [
              "                0           1           2  ...           5           6           7\n",
              "count  398.000000  398.000000  398.000000  ...  398.000000  398.000000  398.000000\n",
              "mean    23.514573    5.454774  193.425879  ...   15.568090   76.010050    1.572864\n",
              "std      7.815984    1.701004  104.269838  ...    2.757689    3.697627    0.802055\n",
              "min      9.000000    3.000000   68.000000  ...    8.000000   70.000000    1.000000\n",
              "25%     17.500000    4.000000  104.250000  ...   13.825000   73.000000    1.000000\n",
              "50%     23.000000    4.000000  148.500000  ...   15.500000   76.000000    1.000000\n",
              "75%     29.000000    8.000000  262.000000  ...   17.175000   79.000000    2.000000\n",
              "max     46.600000    8.000000  455.000000  ...   24.800000   82.000000    3.000000\n",
              "\n",
              "[8 rows x 7 columns]"
            ]
          },
          "metadata": {
            "tags": []
          },
          "execution_count": 10
        }
      ]
    },
    {
      "cell_type": "markdown",
      "metadata": {
        "id": "QlqRm25_WKP4"
      },
      "source": [
        "<데이터 구성의 분포 확인>\n",
        "\n",
        "count       398 전체<br>\n",
        "unique       94 유니크 카테고리<br>\n",
        "top       150.0 카테고리가 150번반복<br>\n",
        "freq         22<br>\n",
        "Name: 3, dtype: object<br>\n"
      ]
    },
    {
      "cell_type": "code",
      "metadata": {
        "colab": {
          "base_uri": "https://localhost:8080/"
        },
        "id": "TIdHOQtiT0dK",
        "outputId": "3c3fa247-5531-46d2-8530-1d18999860e4"
      },
      "source": [
        "#위 데이터중 없는 컬럼 3 확인\n",
        "df[3].describe()"
      ],
      "execution_count": 15,
      "outputs": [
        {
          "output_type": "execute_result",
          "data": {
            "text/plain": [
              "count       398\n",
              "unique       94\n",
              "top       150.0\n",
              "freq         22\n",
              "Name: 3, dtype: object"
            ]
          },
          "metadata": {
            "tags": []
          },
          "execution_count": 15
        }
      ]
    },
    {
      "cell_type": "markdown",
      "metadata": {
        "id": "gVduf9kWaoLM"
      },
      "source": [
        "<데이터 편중여부를 수치로 알수있다>\n",
        "* top은 가장 많이 반복된 최고 높은 카테고리를 말하는데 \n",
        "* 전체(행) 398개- 탑150 = 나머지 248개\n",
        "* 데이터의 구성이  93개의 카테고리로 분할 되어있다는 것을 확인. \n"
      ]
    },
    {
      "cell_type": "code",
      "metadata": {
        "colab": {
          "base_uri": "https://localhost:8080/"
        },
        "id": "PswDhpxrUNiV",
        "outputId": "237c8634-f30e-43d7-b9c7-56f73580322d"
      },
      "source": [
        "398 - 150. "
      ],
      "execution_count": 16,
      "outputs": [
        {
          "output_type": "execute_result",
          "data": {
            "text/plain": [
              "248.0"
            ]
          },
          "metadata": {
            "tags": []
          },
          "execution_count": 16
        }
      ]
    },
    {
      "cell_type": "code",
      "metadata": {
        "colab": {
          "base_uri": "https://localhost:8080/"
        },
        "id": "QqfoD6wuW3Vx",
        "outputId": "ecc751ae-12e9-4486-dc27-a876d0315286"
      },
      "source": [
        "df[8].describe()"
      ],
      "execution_count": 17,
      "outputs": [
        {
          "output_type": "execute_result",
          "data": {
            "text/plain": [
              "count            398\n",
              "unique           305\n",
              "top       ford pinto\n",
              "freq               6\n",
              "Name: 8, dtype: object"
            ]
          },
          "metadata": {
            "tags": []
          },
          "execution_count": 17
        }
      ]
    },
    {
      "cell_type": "code",
      "metadata": {
        "colab": {
          "base_uri": "https://localhost:8080/"
        },
        "id": "UJWls-uMa4hR",
        "outputId": "0847d8d6-752e-48f7-99f2-b4e4efd21910"
      },
      "source": [
        "#특정 위치 뽑아오기\n",
        "#예)0컬럼 mean값만 뽑아오고 싶을때\n",
        "df[0].mean()"
      ],
      "execution_count": 18,
      "outputs": [
        {
          "output_type": "execute_result",
          "data": {
            "text/plain": [
              "23.514572864321615"
            ]
          },
          "metadata": {
            "tags": []
          },
          "execution_count": 18
        }
      ]
    },
    {
      "cell_type": "code",
      "metadata": {
        "colab": {
          "base_uri": "https://localhost:8080/"
        },
        "id": "lrpXvYp5a4t9",
        "outputId": "56c5a741-64a3-409b-b397-c8906aa9dad8"
      },
      "source": [
        "#예)0컬럼 std값만 뽑아오고 싶을때\n",
        "df[0].std()"
      ],
      "execution_count": 20,
      "outputs": [
        {
          "output_type": "execute_result",
          "data": {
            "text/plain": [
              "7.815984312565782"
            ]
          },
          "metadata": {
            "tags": []
          },
          "execution_count": 20
        }
      ]
    },
    {
      "cell_type": "code",
      "metadata": {
        "colab": {
          "base_uri": "https://localhost:8080/"
        },
        "id": "Oh1w_K3SbooT",
        "outputId": "9b4d64c7-b1d8-4ae3-af76-2622bcc8e235"
      },
      "source": [
        "#예)5컬럼 count값만 뽑아오고 싶을때\n",
        "df[5].count()"
      ],
      "execution_count": 21,
      "outputs": [
        {
          "output_type": "execute_result",
          "data": {
            "text/plain": [
              "398"
            ]
          },
          "metadata": {
            "tags": []
          },
          "execution_count": 21
        }
      ]
    },
    {
      "cell_type": "code",
      "metadata": {
        "colab": {
          "base_uri": "https://localhost:8080/"
        },
        "id": "BJo1iSp0bxhh",
        "outputId": "8c816696-305d-4007-aa79-e26860286ec1"
      },
      "source": [
        "#예)5컬럼 min값만 뽑아오고 싶을때\n",
        "df[5].min()"
      ],
      "execution_count": 22,
      "outputs": [
        {
          "output_type": "execute_result",
          "data": {
            "text/plain": [
              "8.0"
            ]
          },
          "metadata": {
            "tags": []
          },
          "execution_count": 22
        }
      ]
    },
    {
      "cell_type": "code",
      "metadata": {
        "colab": {
          "base_uri": "https://localhost:8080/"
        },
        "id": "0ieTAudub1iO",
        "outputId": "dbd9c5dc-67e8-4ad8-f593-9cac0a863191"
      },
      "source": [
        "#예)5컬럼 max값만 뽑아오고 싶을때\n",
        "df[5].max()"
      ],
      "execution_count": 23,
      "outputs": [
        {
          "output_type": "execute_result",
          "data": {
            "text/plain": [
              "24.8"
            ]
          },
          "metadata": {
            "tags": []
          },
          "execution_count": 23
        }
      ]
    },
    {
      "cell_type": "markdown",
      "metadata": {
        "id": "XIpN-Kd0QVwM"
      },
      "source": [
        "교육단계\n"
      ]
    },
    {
      "cell_type": "code",
      "metadata": {
        "id": "A9cXsmwmQX4U"
      },
      "source": [
        ""
      ],
      "execution_count": null,
      "outputs": []
    },
    {
      "cell_type": "markdown",
      "metadata": {
        "id": "MzBdGhbOQYQg"
      },
      "source": [
        "서비스 단계"
      ]
    },
    {
      "cell_type": "code",
      "metadata": {
        "id": "UnDLrdjIQbEY"
      },
      "source": [
        ""
      ],
      "execution_count": null,
      "outputs": []
    }
  ]
}