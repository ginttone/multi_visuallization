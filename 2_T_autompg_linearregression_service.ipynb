{
  "nbformat": 4,
  "nbformat_minor": 0,
  "metadata": {
    "colab": {
      "name": "2_autompg_linearregression_service.ipynb",
      "provenance": [],
      "authorship_tag": "ABX9TyOo8N5/0aG6zcJA3uuGWOLw",
      "include_colab_link": true
    },
    "kernelspec": {
      "name": "python3",
      "display_name": "Python 3"
    },
    "language_info": {
      "name": "python"
    }
  },
  "cells": [
    {
      "cell_type": "markdown",
      "metadata": {
        "id": "view-in-github",
        "colab_type": "text"
      },
      "source": [
        "<a href=\"https://colab.research.google.com/github/ginttone/test_visuallization/blob/master/2_T_autompg_linearregression_service.ipynb\" target=\"_parent\"><img src=\"https://colab.research.google.com/assets/colab-badge.svg\" alt=\"Open In Colab\"/></a>"
      ]
    },
    {
      "cell_type": "code",
      "metadata": {
        "colab": {
          "base_uri": "https://localhost:8080/"
        },
        "id": "N_JvCZY_mEmT",
        "outputId": "ae7570f2-edf4-4ece-ce15-3633fdce92cd"
      },
      "source": [
        "!ls -l ./autompg_lr.pkl"
      ],
      "execution_count": null,
      "outputs": [
        {
          "output_type": "stream",
          "text": [
            "-rw-r--r-- 1 root root 567 Jul  6 02:17 ./autompg_lr.pkl\n"
          ],
          "name": "stdout"
        }
      ]
    },
    {
      "cell_type": "markdown",
      "metadata": {
        "id": "DmR_3dPlnXuz"
      },
      "source": [
        "# load pickle with xgboost and scaler\n"
      ]
    },
    {
      "cell_type": "code",
      "metadata": {
        "colab": {
          "base_uri": "https://localhost:8080/"
        },
        "id": "JP-nWgBUm4mf",
        "outputId": "7b5ca935-bcf2-4c41-aeed-92919b616072"
      },
      "source": [
        "#조절하기 위해 lr이라는 변수에 만들어진pickle을 담는다\n",
        "\n",
        "import pickle \n",
        "model = pickle.load(open('./xgb_model.pkl', 'rb'))\n",
        "type(model)"
      ],
      "execution_count": 1,
      "outputs": [
        {
          "output_type": "stream",
          "text": [
            "[08:28:29] WARNING: /workspace/src/objective/regression_obj.cu:152: reg:linear is now deprecated in favor of reg:squarederror.\n"
          ],
          "name": "stdout"
        },
        {
          "output_type": "execute_result",
          "data": {
            "text/plain": [
              "xgboost.sklearn.XGBRegressor"
            ]
          },
          "metadata": {
            "tags": []
          },
          "execution_count": 1
        }
      ]
    },
    {
      "cell_type": "code",
      "metadata": {
        "colab": {
          "base_uri": "https://localhost:8080/"
        },
        "id": "-LDZomN2nvUY",
        "outputId": "56050b94-d005-4935-f9d6-1826bade8984"
      },
      "source": [
        "scaler = pickle.load(open('./scaler_xgb.pkl', 'rb'))\n",
        "type(scaler)"
      ],
      "execution_count": 3,
      "outputs": [
        {
          "output_type": "execute_result",
          "data": {
            "text/plain": [
              "sklearn.preprocessing._data.StandardScaler"
            ]
          },
          "metadata": {
            "tags": []
          },
          "execution_count": 3
        }
      ]
    },
    {
      "cell_type": "markdown",
      "metadata": {
        "id": "dbJL7UdA_l0u"
      },
      "source": [
        "## predict\n",
        "\n"
      ]
    },
    {
      "cell_type": "code",
      "metadata": {
        "id": "_kYC2AseCOna"
      },
      "source": [
        "\n",
        " displacement=307.0\n",
        " horsepower=130.0\n",
        " weight=3504.0\n",
        " accel=12.0\n",
        " origin=1\n",
        " cylinders= 8\n",
        "\n",
        "if cylinders == 3:\n",
        "  cylinder=[1,0,0,0,0]\n",
        "elif cylinders ==4:\n",
        "  cylinder=[0,1,0,0,0]\n",
        "elif cylinders == 5:\n",
        "  cylinder=[0,0,1,0,0]\n",
        "elif cylinders == 6:\n",
        "  cylinder=[0,0,0,1,0]\n",
        "else cylinders == 8:\n",
        "  cylinder=[0,0,0,0,1]\n",
        "\n",
        "if origin ==1:\n",
        "  org=[1,0,0]\n",
        "elif origin ==2:\n",
        "  org=[0,1,0]\n",
        "else origin ==3:\n",
        "  org=[0,0,1]\n",
        "\n",
        " x_custmer=[[displacement,horsepower,weight,accel,org,cylinder]]\n",
        "\n",
        "#function\n",
        "# [307.0,130.0,3504.0,12.0,1,8]\n",
        "# ->[307.0,130.0,3504.0,12.0,[1,0,0],[0,0,0,0,1]]\n",
        "# ->[307.0,130.0,3504.0,12.0, 1,0,0, 0,0,0,0,1]\n",
        " x_custmer=[[displacement,horsepower,weight,accel,origin,cylinders]]"
      ],
      "execution_count": 4,
      "outputs": []
    },
    {
      "cell_type": "code",
      "metadata": {
        "colab": {
          "base_uri": "https://localhost:8080/"
        },
        "id": "K3Q0OhTmB9Kf",
        "outputId": "2f35ad6c-bd3e-4606-aa18-818ffcbce82f"
      },
      "source": [
        "x_custmer=scaler.transform([[307.0,130.0,3504.0,12.0,1,0,0,0,0,0,0,1]])\n",
        "x_custmer.shape"
      ],
      "execution_count": 7,
      "outputs": [
        {
          "output_type": "execute_result",
          "data": {
            "text/plain": [
              "(1, 12)"
            ]
          },
          "metadata": {
            "tags": []
          },
          "execution_count": 7
        }
      ]
    },
    {
      "cell_type": "code",
      "metadata": {
        "id": "gVYRwiFt-Ctb",
        "outputId": "cbd680fa-fc71-49b9-b517-5354388c1625",
        "colab": {
          "base_uri": "https://localhost:8080/"
        }
      },
      "source": [
        "y_pred= model.predict(x_custmer)\n",
        "y_pred[0]"
      ],
      "execution_count": 9,
      "outputs": [
        {
          "output_type": "execute_result",
          "data": {
            "text/plain": [
              "18.744444"
            ]
          },
          "metadata": {
            "tags": []
          },
          "execution_count": 9
        }
      ]
    },
    {
      "cell_type": "markdown",
      "metadata": {
        "id": "Kw-d4YZgC3Xc"
      },
      "source": [
        "상대 웹에 뿌려주는 값"
      ]
    },
    {
      "cell_type": "code",
      "metadata": {
        "colab": {
          "base_uri": "https://localhost:8080/"
        },
        "id": "PnLJIazmBTEA",
        "outputId": "9e297260-1c34-4ee9-e5cd-804ef23d1b81"
      },
      "source": [
        "result= lr.predict(x_custmer)\n",
        "result[0]"
      ],
      "execution_count": null,
      "outputs": [
        {
          "output_type": "execute_result",
          "data": {
            "text/plain": [
              "18.997435878630824"
            ]
          },
          "metadata": {
            "tags": []
          },
          "execution_count": 22
        }
      ]
    },
    {
      "cell_type": "code",
      "metadata": {
        "id": "nMEBq4U7Cass"
      },
      "source": [
        ""
      ],
      "execution_count": null,
      "outputs": []
    }
  ]
}