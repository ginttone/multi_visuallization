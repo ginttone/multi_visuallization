{
  "nbformat": 4,
  "nbformat_minor": 0,
  "metadata": {
    "colab": {
      "name": "2_autompg_linearregression_service.ipynb",
      "provenance": [],
      "authorship_tag": "ABX9TyPHbYhWKExx9FlCS6e/tRyU",
      "include_colab_link": true
    },
    "kernelspec": {
      "name": "python3",
      "display_name": "Python 3"
    },
    "language_info": {
      "name": "python"
    }
  },
  "cells": [
    {
      "cell_type": "markdown",
      "metadata": {
        "id": "view-in-github",
        "colab_type": "text"
      },
      "source": [
        "<a href=\"https://colab.research.google.com/github/ginttone/test_visuallization/blob/master/2_autompg_linearregression_service.ipynb\" target=\"_parent\"><img src=\"https://colab.research.google.com/assets/colab-badge.svg\" alt=\"Open In Colab\"/></a>"
      ]
    },
    {
      "cell_type": "code",
      "metadata": {
        "colab": {
          "base_uri": "https://localhost:8080/"
        },
        "id": "N_JvCZY_mEmT",
        "outputId": "ae7570f2-edf4-4ece-ce15-3633fdce92cd"
      },
      "source": [
        "!ls -l ./autompg_lr.pkl"
      ],
      "execution_count": 1,
      "outputs": [
        {
          "output_type": "stream",
          "text": [
            "-rw-r--r-- 1 root root 567 Jul  6 02:17 ./autompg_lr.pkl\n"
          ],
          "name": "stdout"
        }
      ]
    },
    {
      "cell_type": "markdown",
      "metadata": {
        "id": "DmR_3dPlnXuz"
      },
      "source": [
        "# load pickle with LinearRegression and scaler\n",
        "\n",
        "인스턴스 화 시켜둠"
      ]
    },
    {
      "cell_type": "code",
      "metadata": {
        "colab": {
          "base_uri": "https://localhost:8080/"
        },
        "id": "JP-nWgBUm4mf",
        "outputId": "8db1b32f-377d-4873-f293-9161b80494e9"
      },
      "source": [
        "#조절하기 위해 lr이라는 변수에 만들어진pickle을 담는다\n",
        "\n",
        "import pickle \n",
        "lr = pickle.load(open('./autompg_lr.pkl', 'rb'))\n",
        "type(lr)"
      ],
      "execution_count": 4,
      "outputs": [
        {
          "output_type": "execute_result",
          "data": {
            "text/plain": [
              "sklearn.linear_model._base.LinearRegression"
            ]
          },
          "metadata": {
            "tags": []
          },
          "execution_count": 4
        }
      ]
    },
    {
      "cell_type": "code",
      "metadata": {
        "id": "V4dyo_BznD7q"
      },
      "source": [
        "# predict할건데 레이블이 없는 피쳐만 가져올거야\n",
        "# 머신러닝은 교육받는 내용으로만 훈련받았기 때문에 훈련하지 않은 것을 질문하면 대답못해"
      ],
      "execution_count": 7,
      "outputs": []
    },
    {
      "cell_type": "code",
      "metadata": {
        "colab": {
          "base_uri": "https://localhost:8080/"
        },
        "id": "-LDZomN2nvUY",
        "outputId": "7a4fbe62-db10-4415-9a6f-f139cde6f0e3"
      },
      "source": [
        "scaler = pickle.load(open('./autompg_standardscaler.pkl', 'rb'))\n",
        "type(scaler)"
      ],
      "execution_count": 9,
      "outputs": [
        {
          "output_type": "execute_result",
          "data": {
            "text/plain": [
              "sklearn.preprocessing._data.StandardScaler"
            ]
          },
          "metadata": {
            "tags": []
          },
          "execution_count": 9
        }
      ]
    },
    {
      "cell_type": "markdown",
      "metadata": {
        "id": "dbJL7UdA_l0u"
      },
      "source": [
        "## predict with LinearRegression:  scaler사용\n",
        "\n",
        "X_continus = df[['displacement','horsepower', 'weight','acceleration']]\n",
        "\n",
        "app만들었을때 각 해당 컬럼에 input받은 값을 submit하면 입력된 값이 들어오게 된다.\n",
        "\n",
        "scaler.transform([[307.0,130.0,3504.0,12.0]])"
      ]
    },
    {
      "cell_type": "markdown",
      "metadata": {
        "id": "-HuSP_XEBVmY"
      },
      "source": [
        "back단 에서 잡아내서 변수를 하나하나 잡아 내서 넣는다.\n",
        "\n",
        "<app에서 요청><br>\n",
        "displacement = 307.0 <br>\n",
        "horsepower = 130.0<br>\n",
        "weight = 3504.0<br>\n",
        "acceleration =12.0<br>\n",
        "\n",
        "\n",
        "데이터가 된다 x_custumer = [['displacement','horsepower', 'weight','acceleration']]"
      ]
    },
    {
      "cell_type": "code",
      "metadata": {
        "id": "_kYC2AseCOna"
      },
      "source": [
        "displacement = 307.0 \n",
        "horsepower = 130.0\n",
        "weight = 3504.0\n",
        "acceleration =12.0\n",
        "\n",
        "x_custmer= [[displacement,horsepower, weight,acceleration]]"
      ],
      "execution_count": 19,
      "outputs": []
    },
    {
      "cell_type": "code",
      "metadata": {
        "colab": {
          "base_uri": "https://localhost:8080/"
        },
        "id": "K3Q0OhTmB9Kf",
        "outputId": "5af0568b-8953-493f-8239-7d9e85b13ada"
      },
      "source": [
        "x_custmer=scaler.transform(x_custmer)\n",
        "x_custmer.shape"
      ],
      "execution_count": 20,
      "outputs": [
        {
          "output_type": "execute_result",
          "data": {
            "text/plain": [
              "(1, 4)"
            ]
          },
          "metadata": {
            "tags": []
          },
          "execution_count": 20
        }
      ]
    },
    {
      "cell_type": "markdown",
      "metadata": {
        "id": "Kw-d4YZgC3Xc"
      },
      "source": [
        "상대 웹에 뿌려주는 값"
      ]
    },
    {
      "cell_type": "code",
      "metadata": {
        "colab": {
          "base_uri": "https://localhost:8080/"
        },
        "id": "PnLJIazmBTEA",
        "outputId": "9e297260-1c34-4ee9-e5cd-804ef23d1b81"
      },
      "source": [
        "result= lr.predict(x_custmer)\n",
        "result[0]"
      ],
      "execution_count": 22,
      "outputs": [
        {
          "output_type": "execute_result",
          "data": {
            "text/plain": [
              "18.997435878630824"
            ]
          },
          "metadata": {
            "tags": []
          },
          "execution_count": 22
        }
      ]
    },
    {
      "cell_type": "code",
      "metadata": {
        "id": "nMEBq4U7Cass"
      },
      "source": [
        ""
      ],
      "execution_count": null,
      "outputs": []
    }
  ]
}